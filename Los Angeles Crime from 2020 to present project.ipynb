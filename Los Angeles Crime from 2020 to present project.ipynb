{
 "cells": [
  {
   "cell_type": "markdown",
   "id": "7c866af0",
   "metadata": {},
   "source": [
    "# Overview of the data"
   ]
  },
  {
   "cell_type": "code",
   "execution_count": 1,
   "id": "d7cf8d29",
   "metadata": {
    "ExecuteTime": {
     "end_time": "2023-07-20T09:29:15.092499Z",
     "start_time": "2023-07-20T09:29:10.365234Z"
    }
   },
   "outputs": [
    {
     "name": "stderr",
     "output_type": "stream",
     "text": [
      "C:\\Users\\dell\\anaconda3\\lib\\site-packages\\scipy\\__init__.py:146: UserWarning: A NumPy version >=1.16.5 and <1.23.0 is required for this version of SciPy (detected version 1.24.3\n",
      "  warnings.warn(f\"A NumPy version >={np_minversion} and <{np_maxversion}\"\n"
     ]
    }
   ],
   "source": [
    "import numpy as np\n",
    "import pandas as pd \n",
    "import matplotlib.pyplot as plt \n",
    "import seaborn as sns"
   ]
  },
  {
   "cell_type": "code",
   "execution_count": 2,
   "id": "e238f631",
   "metadata": {
    "ExecuteTime": {
     "end_time": "2023-07-20T09:30:04.093150Z",
     "start_time": "2023-07-20T09:29:58.311047Z"
    }
   },
   "outputs": [
    {
     "data": {
      "text/html": [
       "<div>\n",
       "<style scoped>\n",
       "    .dataframe tbody tr th:only-of-type {\n",
       "        vertical-align: middle;\n",
       "    }\n",
       "\n",
       "    .dataframe tbody tr th {\n",
       "        vertical-align: top;\n",
       "    }\n",
       "\n",
       "    .dataframe thead th {\n",
       "        text-align: right;\n",
       "    }\n",
       "</style>\n",
       "<table border=\"1\" class=\"dataframe\">\n",
       "  <thead>\n",
       "    <tr style=\"text-align: right;\">\n",
       "      <th></th>\n",
       "      <th>DR_NO</th>\n",
       "      <th>Date Rptd</th>\n",
       "      <th>DATE OCC</th>\n",
       "      <th>TIME OCC</th>\n",
       "      <th>AREA</th>\n",
       "      <th>AREA NAME</th>\n",
       "      <th>Rpt Dist No</th>\n",
       "      <th>Part 1-2</th>\n",
       "      <th>Crm Cd</th>\n",
       "      <th>Crm Cd Desc</th>\n",
       "      <th>...</th>\n",
       "      <th>Status</th>\n",
       "      <th>Status Desc</th>\n",
       "      <th>Crm Cd 1</th>\n",
       "      <th>Crm Cd 2</th>\n",
       "      <th>Crm Cd 3</th>\n",
       "      <th>Crm Cd 4</th>\n",
       "      <th>LOCATION</th>\n",
       "      <th>Cross Street</th>\n",
       "      <th>LAT</th>\n",
       "      <th>LON</th>\n",
       "    </tr>\n",
       "  </thead>\n",
       "  <tbody>\n",
       "    <tr>\n",
       "      <th>0</th>\n",
       "      <td>10304468</td>\n",
       "      <td>01/08/2020 12:00:00 AM</td>\n",
       "      <td>01/08/2020 12:00:00 AM</td>\n",
       "      <td>2230</td>\n",
       "      <td>3</td>\n",
       "      <td>Southwest</td>\n",
       "      <td>377</td>\n",
       "      <td>2</td>\n",
       "      <td>624</td>\n",
       "      <td>BATTERY - SIMPLE ASSAULT</td>\n",
       "      <td>...</td>\n",
       "      <td>AO</td>\n",
       "      <td>Adult Other</td>\n",
       "      <td>624.0</td>\n",
       "      <td>NaN</td>\n",
       "      <td>NaN</td>\n",
       "      <td>NaN</td>\n",
       "      <td>1100 W  39TH                         PL</td>\n",
       "      <td>NaN</td>\n",
       "      <td>34.0141</td>\n",
       "      <td>-118.2978</td>\n",
       "    </tr>\n",
       "    <tr>\n",
       "      <th>1</th>\n",
       "      <td>190101086</td>\n",
       "      <td>01/02/2020 12:00:00 AM</td>\n",
       "      <td>01/01/2020 12:00:00 AM</td>\n",
       "      <td>330</td>\n",
       "      <td>1</td>\n",
       "      <td>Central</td>\n",
       "      <td>163</td>\n",
       "      <td>2</td>\n",
       "      <td>624</td>\n",
       "      <td>BATTERY - SIMPLE ASSAULT</td>\n",
       "      <td>...</td>\n",
       "      <td>IC</td>\n",
       "      <td>Invest Cont</td>\n",
       "      <td>624.0</td>\n",
       "      <td>NaN</td>\n",
       "      <td>NaN</td>\n",
       "      <td>NaN</td>\n",
       "      <td>700 S  HILL                         ST</td>\n",
       "      <td>NaN</td>\n",
       "      <td>34.0459</td>\n",
       "      <td>-118.2545</td>\n",
       "    </tr>\n",
       "    <tr>\n",
       "      <th>2</th>\n",
       "      <td>200110444</td>\n",
       "      <td>04/14/2020 12:00:00 AM</td>\n",
       "      <td>02/13/2020 12:00:00 AM</td>\n",
       "      <td>1200</td>\n",
       "      <td>1</td>\n",
       "      <td>Central</td>\n",
       "      <td>155</td>\n",
       "      <td>2</td>\n",
       "      <td>845</td>\n",
       "      <td>SEX OFFENDER REGISTRANT OUT OF COMPLIANCE</td>\n",
       "      <td>...</td>\n",
       "      <td>AA</td>\n",
       "      <td>Adult Arrest</td>\n",
       "      <td>845.0</td>\n",
       "      <td>NaN</td>\n",
       "      <td>NaN</td>\n",
       "      <td>NaN</td>\n",
       "      <td>200 E  6TH                          ST</td>\n",
       "      <td>NaN</td>\n",
       "      <td>34.0448</td>\n",
       "      <td>-118.2474</td>\n",
       "    </tr>\n",
       "    <tr>\n",
       "      <th>3</th>\n",
       "      <td>191501505</td>\n",
       "      <td>01/01/2020 12:00:00 AM</td>\n",
       "      <td>01/01/2020 12:00:00 AM</td>\n",
       "      <td>1730</td>\n",
       "      <td>15</td>\n",
       "      <td>N Hollywood</td>\n",
       "      <td>1543</td>\n",
       "      <td>2</td>\n",
       "      <td>745</td>\n",
       "      <td>VANDALISM - MISDEAMEANOR ($399 OR UNDER)</td>\n",
       "      <td>...</td>\n",
       "      <td>IC</td>\n",
       "      <td>Invest Cont</td>\n",
       "      <td>745.0</td>\n",
       "      <td>998.0</td>\n",
       "      <td>NaN</td>\n",
       "      <td>NaN</td>\n",
       "      <td>5400    CORTEEN                      PL</td>\n",
       "      <td>NaN</td>\n",
       "      <td>34.1685</td>\n",
       "      <td>-118.4019</td>\n",
       "    </tr>\n",
       "    <tr>\n",
       "      <th>4</th>\n",
       "      <td>191921269</td>\n",
       "      <td>01/01/2020 12:00:00 AM</td>\n",
       "      <td>01/01/2020 12:00:00 AM</td>\n",
       "      <td>415</td>\n",
       "      <td>19</td>\n",
       "      <td>Mission</td>\n",
       "      <td>1998</td>\n",
       "      <td>2</td>\n",
       "      <td>740</td>\n",
       "      <td>VANDALISM - FELONY ($400 &amp; OVER, ALL CHURCH VA...</td>\n",
       "      <td>...</td>\n",
       "      <td>IC</td>\n",
       "      <td>Invest Cont</td>\n",
       "      <td>740.0</td>\n",
       "      <td>NaN</td>\n",
       "      <td>NaN</td>\n",
       "      <td>NaN</td>\n",
       "      <td>14400    TITUS                        ST</td>\n",
       "      <td>NaN</td>\n",
       "      <td>34.2198</td>\n",
       "      <td>-118.4468</td>\n",
       "    </tr>\n",
       "    <tr>\n",
       "      <th>...</th>\n",
       "      <td>...</td>\n",
       "      <td>...</td>\n",
       "      <td>...</td>\n",
       "      <td>...</td>\n",
       "      <td>...</td>\n",
       "      <td>...</td>\n",
       "      <td>...</td>\n",
       "      <td>...</td>\n",
       "      <td>...</td>\n",
       "      <td>...</td>\n",
       "      <td>...</td>\n",
       "      <td>...</td>\n",
       "      <td>...</td>\n",
       "      <td>...</td>\n",
       "      <td>...</td>\n",
       "      <td>...</td>\n",
       "      <td>...</td>\n",
       "      <td>...</td>\n",
       "      <td>...</td>\n",
       "      <td>...</td>\n",
       "      <td>...</td>\n",
       "    </tr>\n",
       "    <tr>\n",
       "      <th>752906</th>\n",
       "      <td>231510379</td>\n",
       "      <td>05/29/2023 12:00:00 AM</td>\n",
       "      <td>05/25/2023 12:00:00 AM</td>\n",
       "      <td>1100</td>\n",
       "      <td>15</td>\n",
       "      <td>N Hollywood</td>\n",
       "      <td>1548</td>\n",
       "      <td>2</td>\n",
       "      <td>662</td>\n",
       "      <td>BUNCO, GRAND THEFT</td>\n",
       "      <td>...</td>\n",
       "      <td>IC</td>\n",
       "      <td>Invest Cont</td>\n",
       "      <td>662.0</td>\n",
       "      <td>NaN</td>\n",
       "      <td>NaN</td>\n",
       "      <td>NaN</td>\n",
       "      <td>5300    DENNY                        AV</td>\n",
       "      <td>NaN</td>\n",
       "      <td>34.1667</td>\n",
       "      <td>-118.3643</td>\n",
       "    </tr>\n",
       "    <tr>\n",
       "      <th>752907</th>\n",
       "      <td>231604807</td>\n",
       "      <td>01/27/2023 12:00:00 AM</td>\n",
       "      <td>01/26/2023 12:00:00 AM</td>\n",
       "      <td>1800</td>\n",
       "      <td>16</td>\n",
       "      <td>Foothill</td>\n",
       "      <td>1663</td>\n",
       "      <td>2</td>\n",
       "      <td>740</td>\n",
       "      <td>VANDALISM - FELONY ($400 &amp; OVER, ALL CHURCH VA...</td>\n",
       "      <td>...</td>\n",
       "      <td>IC</td>\n",
       "      <td>Invest Cont</td>\n",
       "      <td>740.0</td>\n",
       "      <td>NaN</td>\n",
       "      <td>NaN</td>\n",
       "      <td>NaN</td>\n",
       "      <td>12500    BRANFORD                     ST</td>\n",
       "      <td>NaN</td>\n",
       "      <td>34.2466</td>\n",
       "      <td>-118.4054</td>\n",
       "    </tr>\n",
       "    <tr>\n",
       "      <th>752908</th>\n",
       "      <td>231606525</td>\n",
       "      <td>03/22/2023 12:00:00 AM</td>\n",
       "      <td>03/22/2023 12:00:00 AM</td>\n",
       "      <td>1000</td>\n",
       "      <td>16</td>\n",
       "      <td>Foothill</td>\n",
       "      <td>1602</td>\n",
       "      <td>1</td>\n",
       "      <td>230</td>\n",
       "      <td>ASSAULT WITH DEADLY WEAPON, AGGRAVATED ASSAULT</td>\n",
       "      <td>...</td>\n",
       "      <td>IC</td>\n",
       "      <td>Invest Cont</td>\n",
       "      <td>230.0</td>\n",
       "      <td>NaN</td>\n",
       "      <td>NaN</td>\n",
       "      <td>NaN</td>\n",
       "      <td>12800    FILMORE                      ST</td>\n",
       "      <td>NaN</td>\n",
       "      <td>34.2790</td>\n",
       "      <td>-118.4116</td>\n",
       "    </tr>\n",
       "    <tr>\n",
       "      <th>752909</th>\n",
       "      <td>231210064</td>\n",
       "      <td>04/12/2023 12:00:00 AM</td>\n",
       "      <td>04/12/2023 12:00:00 AM</td>\n",
       "      <td>1630</td>\n",
       "      <td>12</td>\n",
       "      <td>77th Street</td>\n",
       "      <td>1239</td>\n",
       "      <td>1</td>\n",
       "      <td>230</td>\n",
       "      <td>ASSAULT WITH DEADLY WEAPON, AGGRAVATED ASSAULT</td>\n",
       "      <td>...</td>\n",
       "      <td>IC</td>\n",
       "      <td>Invest Cont</td>\n",
       "      <td>230.0</td>\n",
       "      <td>NaN</td>\n",
       "      <td>NaN</td>\n",
       "      <td>NaN</td>\n",
       "      <td>6100 S  VERMONT                      AV</td>\n",
       "      <td>NaN</td>\n",
       "      <td>33.9841</td>\n",
       "      <td>-118.2915</td>\n",
       "    </tr>\n",
       "    <tr>\n",
       "      <th>752910</th>\n",
       "      <td>230906458</td>\n",
       "      <td>03/05/2023 12:00:00 AM</td>\n",
       "      <td>03/05/2023 12:00:00 AM</td>\n",
       "      <td>900</td>\n",
       "      <td>9</td>\n",
       "      <td>Van Nuys</td>\n",
       "      <td>914</td>\n",
       "      <td>2</td>\n",
       "      <td>745</td>\n",
       "      <td>VANDALISM - MISDEAMEANOR ($399 OR UNDER)</td>\n",
       "      <td>...</td>\n",
       "      <td>IC</td>\n",
       "      <td>Invest Cont</td>\n",
       "      <td>745.0</td>\n",
       "      <td>NaN</td>\n",
       "      <td>NaN</td>\n",
       "      <td>NaN</td>\n",
       "      <td>14500    HARTLAND                     ST</td>\n",
       "      <td>NaN</td>\n",
       "      <td>34.1951</td>\n",
       "      <td>-118.4487</td>\n",
       "    </tr>\n",
       "  </tbody>\n",
       "</table>\n",
       "<p>752911 rows × 28 columns</p>\n",
       "</div>"
      ],
      "text/plain": [
       "            DR_NO               Date Rptd                DATE OCC  TIME OCC  \\\n",
       "0        10304468  01/08/2020 12:00:00 AM  01/08/2020 12:00:00 AM      2230   \n",
       "1       190101086  01/02/2020 12:00:00 AM  01/01/2020 12:00:00 AM       330   \n",
       "2       200110444  04/14/2020 12:00:00 AM  02/13/2020 12:00:00 AM      1200   \n",
       "3       191501505  01/01/2020 12:00:00 AM  01/01/2020 12:00:00 AM      1730   \n",
       "4       191921269  01/01/2020 12:00:00 AM  01/01/2020 12:00:00 AM       415   \n",
       "...           ...                     ...                     ...       ...   \n",
       "752906  231510379  05/29/2023 12:00:00 AM  05/25/2023 12:00:00 AM      1100   \n",
       "752907  231604807  01/27/2023 12:00:00 AM  01/26/2023 12:00:00 AM      1800   \n",
       "752908  231606525  03/22/2023 12:00:00 AM  03/22/2023 12:00:00 AM      1000   \n",
       "752909  231210064  04/12/2023 12:00:00 AM  04/12/2023 12:00:00 AM      1630   \n",
       "752910  230906458  03/05/2023 12:00:00 AM  03/05/2023 12:00:00 AM       900   \n",
       "\n",
       "        AREA    AREA NAME  Rpt Dist No  Part 1-2  Crm Cd  \\\n",
       "0          3    Southwest          377         2     624   \n",
       "1          1      Central          163         2     624   \n",
       "2          1      Central          155         2     845   \n",
       "3         15  N Hollywood         1543         2     745   \n",
       "4         19      Mission         1998         2     740   \n",
       "...      ...          ...          ...       ...     ...   \n",
       "752906    15  N Hollywood         1548         2     662   \n",
       "752907    16     Foothill         1663         2     740   \n",
       "752908    16     Foothill         1602         1     230   \n",
       "752909    12  77th Street         1239         1     230   \n",
       "752910     9     Van Nuys          914         2     745   \n",
       "\n",
       "                                              Crm Cd Desc  ... Status  \\\n",
       "0                                BATTERY - SIMPLE ASSAULT  ...     AO   \n",
       "1                                BATTERY - SIMPLE ASSAULT  ...     IC   \n",
       "2               SEX OFFENDER REGISTRANT OUT OF COMPLIANCE  ...     AA   \n",
       "3                VANDALISM - MISDEAMEANOR ($399 OR UNDER)  ...     IC   \n",
       "4       VANDALISM - FELONY ($400 & OVER, ALL CHURCH VA...  ...     IC   \n",
       "...                                                   ...  ...    ...   \n",
       "752906                                 BUNCO, GRAND THEFT  ...     IC   \n",
       "752907  VANDALISM - FELONY ($400 & OVER, ALL CHURCH VA...  ...     IC   \n",
       "752908     ASSAULT WITH DEADLY WEAPON, AGGRAVATED ASSAULT  ...     IC   \n",
       "752909     ASSAULT WITH DEADLY WEAPON, AGGRAVATED ASSAULT  ...     IC   \n",
       "752910           VANDALISM - MISDEAMEANOR ($399 OR UNDER)  ...     IC   \n",
       "\n",
       "         Status Desc Crm Cd 1 Crm Cd 2  Crm Cd 3 Crm Cd 4  \\\n",
       "0        Adult Other    624.0      NaN       NaN      NaN   \n",
       "1        Invest Cont    624.0      NaN       NaN      NaN   \n",
       "2       Adult Arrest    845.0      NaN       NaN      NaN   \n",
       "3        Invest Cont    745.0    998.0       NaN      NaN   \n",
       "4        Invest Cont    740.0      NaN       NaN      NaN   \n",
       "...              ...      ...      ...       ...      ...   \n",
       "752906   Invest Cont    662.0      NaN       NaN      NaN   \n",
       "752907   Invest Cont    740.0      NaN       NaN      NaN   \n",
       "752908   Invest Cont    230.0      NaN       NaN      NaN   \n",
       "752909   Invest Cont    230.0      NaN       NaN      NaN   \n",
       "752910   Invest Cont    745.0      NaN       NaN      NaN   \n",
       "\n",
       "                                        LOCATION Cross Street      LAT  \\\n",
       "0        1100 W  39TH                         PL          NaN  34.0141   \n",
       "1         700 S  HILL                         ST          NaN  34.0459   \n",
       "2         200 E  6TH                          ST          NaN  34.0448   \n",
       "3        5400    CORTEEN                      PL          NaN  34.1685   \n",
       "4       14400    TITUS                        ST          NaN  34.2198   \n",
       "...                                          ...          ...      ...   \n",
       "752906   5300    DENNY                        AV          NaN  34.1667   \n",
       "752907  12500    BRANFORD                     ST          NaN  34.2466   \n",
       "752908  12800    FILMORE                      ST          NaN  34.2790   \n",
       "752909   6100 S  VERMONT                      AV          NaN  33.9841   \n",
       "752910  14500    HARTLAND                     ST          NaN  34.1951   \n",
       "\n",
       "             LON  \n",
       "0      -118.2978  \n",
       "1      -118.2545  \n",
       "2      -118.2474  \n",
       "3      -118.4019  \n",
       "4      -118.4468  \n",
       "...          ...  \n",
       "752906 -118.3643  \n",
       "752907 -118.4054  \n",
       "752908 -118.4116  \n",
       "752909 -118.2915  \n",
       "752910 -118.4487  \n",
       "\n",
       "[752911 rows x 28 columns]"
      ]
     },
     "execution_count": 2,
     "metadata": {},
     "output_type": "execute_result"
    }
   ],
   "source": [
    "df = pd.read_csv(r\"C:\\Users\\dell\\OneDrive\\Desktop\\Data analytics files\\Crime_Data_from_2020_to_Present.csv\")\n",
    "df"
   ]
  },
  {
   "cell_type": "code",
   "execution_count": 3,
   "id": "e844d2ff",
   "metadata": {
    "ExecuteTime": {
     "end_time": "2023-07-20T09:31:31.217594Z",
     "start_time": "2023-07-20T09:31:30.439639Z"
    }
   },
   "outputs": [
    {
     "name": "stdout",
     "output_type": "stream",
     "text": [
      "<class 'pandas.core.frame.DataFrame'>\n",
      "RangeIndex: 752911 entries, 0 to 752910\n",
      "Data columns (total 28 columns):\n",
      " #   Column          Non-Null Count   Dtype  \n",
      "---  ------          --------------   -----  \n",
      " 0   DR_NO           752911 non-null  int64  \n",
      " 1   Date Rptd       752911 non-null  object \n",
      " 2   DATE OCC        752911 non-null  object \n",
      " 3   TIME OCC        752911 non-null  int64  \n",
      " 4   AREA            752911 non-null  int64  \n",
      " 5   AREA NAME       752911 non-null  object \n",
      " 6   Rpt Dist No     752911 non-null  int64  \n",
      " 7   Part 1-2        752911 non-null  int64  \n",
      " 8   Crm Cd          752911 non-null  int64  \n",
      " 9   Crm Cd Desc     752911 non-null  object \n",
      " 10  Mocodes         649650 non-null  object \n",
      " 11  Vict Age        752911 non-null  int64  \n",
      " 12  Vict Sex        654681 non-null  object \n",
      " 13  Vict Descent    654675 non-null  object \n",
      " 14  Premis Cd       752902 non-null  float64\n",
      " 15  Premis Desc     752476 non-null  object \n",
      " 16  Weapon Used Cd  261472 non-null  float64\n",
      " 17  Weapon Desc     261472 non-null  object \n",
      " 18  Status          752911 non-null  object \n",
      " 19  Status Desc     752911 non-null  object \n",
      " 20  Crm Cd 1        752901 non-null  float64\n",
      " 21  Crm Cd 2        55707 non-null   float64\n",
      " 22  Crm Cd 3        1867 non-null    float64\n",
      " 23  Crm Cd 4        56 non-null      float64\n",
      " 24  LOCATION        752911 non-null  object \n",
      " 25  Cross Street    121052 non-null  object \n",
      " 26  LAT             752911 non-null  float64\n",
      " 27  LON             752911 non-null  float64\n",
      "dtypes: float64(8), int64(7), object(13)\n",
      "memory usage: 160.8+ MB\n"
     ]
    }
   ],
   "source": [
    "df.info()"
   ]
  },
  {
   "cell_type": "code",
   "execution_count": 4,
   "id": "ea463d1d",
   "metadata": {
    "ExecuteTime": {
     "end_time": "2023-07-20T09:31:45.344345Z",
     "start_time": "2023-07-20T09:31:45.276383Z"
    }
   },
   "outputs": [
    {
     "data": {
      "text/html": [
       "<div>\n",
       "<style scoped>\n",
       "    .dataframe tbody tr th:only-of-type {\n",
       "        vertical-align: middle;\n",
       "    }\n",
       "\n",
       "    .dataframe tbody tr th {\n",
       "        vertical-align: top;\n",
       "    }\n",
       "\n",
       "    .dataframe thead th {\n",
       "        text-align: right;\n",
       "    }\n",
       "</style>\n",
       "<table border=\"1\" class=\"dataframe\">\n",
       "  <thead>\n",
       "    <tr style=\"text-align: right;\">\n",
       "      <th></th>\n",
       "      <th>DR_NO</th>\n",
       "      <th>Date Rptd</th>\n",
       "      <th>DATE OCC</th>\n",
       "      <th>TIME OCC</th>\n",
       "      <th>AREA</th>\n",
       "      <th>AREA NAME</th>\n",
       "      <th>Rpt Dist No</th>\n",
       "      <th>Part 1-2</th>\n",
       "      <th>Crm Cd</th>\n",
       "      <th>Crm Cd Desc</th>\n",
       "      <th>...</th>\n",
       "      <th>Status</th>\n",
       "      <th>Status Desc</th>\n",
       "      <th>Crm Cd 1</th>\n",
       "      <th>Crm Cd 2</th>\n",
       "      <th>Crm Cd 3</th>\n",
       "      <th>Crm Cd 4</th>\n",
       "      <th>LOCATION</th>\n",
       "      <th>Cross Street</th>\n",
       "      <th>LAT</th>\n",
       "      <th>LON</th>\n",
       "    </tr>\n",
       "  </thead>\n",
       "  <tbody>\n",
       "    <tr>\n",
       "      <th>0</th>\n",
       "      <td>10304468</td>\n",
       "      <td>01/08/2020 12:00:00 AM</td>\n",
       "      <td>01/08/2020 12:00:00 AM</td>\n",
       "      <td>2230</td>\n",
       "      <td>3</td>\n",
       "      <td>Southwest</td>\n",
       "      <td>377</td>\n",
       "      <td>2</td>\n",
       "      <td>624</td>\n",
       "      <td>BATTERY - SIMPLE ASSAULT</td>\n",
       "      <td>...</td>\n",
       "      <td>AO</td>\n",
       "      <td>Adult Other</td>\n",
       "      <td>624.0</td>\n",
       "      <td>NaN</td>\n",
       "      <td>NaN</td>\n",
       "      <td>NaN</td>\n",
       "      <td>1100 W  39TH                         PL</td>\n",
       "      <td>NaN</td>\n",
       "      <td>34.0141</td>\n",
       "      <td>-118.2978</td>\n",
       "    </tr>\n",
       "    <tr>\n",
       "      <th>1</th>\n",
       "      <td>190101086</td>\n",
       "      <td>01/02/2020 12:00:00 AM</td>\n",
       "      <td>01/01/2020 12:00:00 AM</td>\n",
       "      <td>330</td>\n",
       "      <td>1</td>\n",
       "      <td>Central</td>\n",
       "      <td>163</td>\n",
       "      <td>2</td>\n",
       "      <td>624</td>\n",
       "      <td>BATTERY - SIMPLE ASSAULT</td>\n",
       "      <td>...</td>\n",
       "      <td>IC</td>\n",
       "      <td>Invest Cont</td>\n",
       "      <td>624.0</td>\n",
       "      <td>NaN</td>\n",
       "      <td>NaN</td>\n",
       "      <td>NaN</td>\n",
       "      <td>700 S  HILL                         ST</td>\n",
       "      <td>NaN</td>\n",
       "      <td>34.0459</td>\n",
       "      <td>-118.2545</td>\n",
       "    </tr>\n",
       "    <tr>\n",
       "      <th>2</th>\n",
       "      <td>200110444</td>\n",
       "      <td>04/14/2020 12:00:00 AM</td>\n",
       "      <td>02/13/2020 12:00:00 AM</td>\n",
       "      <td>1200</td>\n",
       "      <td>1</td>\n",
       "      <td>Central</td>\n",
       "      <td>155</td>\n",
       "      <td>2</td>\n",
       "      <td>845</td>\n",
       "      <td>SEX OFFENDER REGISTRANT OUT OF COMPLIANCE</td>\n",
       "      <td>...</td>\n",
       "      <td>AA</td>\n",
       "      <td>Adult Arrest</td>\n",
       "      <td>845.0</td>\n",
       "      <td>NaN</td>\n",
       "      <td>NaN</td>\n",
       "      <td>NaN</td>\n",
       "      <td>200 E  6TH                          ST</td>\n",
       "      <td>NaN</td>\n",
       "      <td>34.0448</td>\n",
       "      <td>-118.2474</td>\n",
       "    </tr>\n",
       "    <tr>\n",
       "      <th>3</th>\n",
       "      <td>191501505</td>\n",
       "      <td>01/01/2020 12:00:00 AM</td>\n",
       "      <td>01/01/2020 12:00:00 AM</td>\n",
       "      <td>1730</td>\n",
       "      <td>15</td>\n",
       "      <td>N Hollywood</td>\n",
       "      <td>1543</td>\n",
       "      <td>2</td>\n",
       "      <td>745</td>\n",
       "      <td>VANDALISM - MISDEAMEANOR ($399 OR UNDER)</td>\n",
       "      <td>...</td>\n",
       "      <td>IC</td>\n",
       "      <td>Invest Cont</td>\n",
       "      <td>745.0</td>\n",
       "      <td>998.0</td>\n",
       "      <td>NaN</td>\n",
       "      <td>NaN</td>\n",
       "      <td>5400    CORTEEN                      PL</td>\n",
       "      <td>NaN</td>\n",
       "      <td>34.1685</td>\n",
       "      <td>-118.4019</td>\n",
       "    </tr>\n",
       "    <tr>\n",
       "      <th>4</th>\n",
       "      <td>191921269</td>\n",
       "      <td>01/01/2020 12:00:00 AM</td>\n",
       "      <td>01/01/2020 12:00:00 AM</td>\n",
       "      <td>415</td>\n",
       "      <td>19</td>\n",
       "      <td>Mission</td>\n",
       "      <td>1998</td>\n",
       "      <td>2</td>\n",
       "      <td>740</td>\n",
       "      <td>VANDALISM - FELONY ($400 &amp; OVER, ALL CHURCH VA...</td>\n",
       "      <td>...</td>\n",
       "      <td>IC</td>\n",
       "      <td>Invest Cont</td>\n",
       "      <td>740.0</td>\n",
       "      <td>NaN</td>\n",
       "      <td>NaN</td>\n",
       "      <td>NaN</td>\n",
       "      <td>14400    TITUS                        ST</td>\n",
       "      <td>NaN</td>\n",
       "      <td>34.2198</td>\n",
       "      <td>-118.4468</td>\n",
       "    </tr>\n",
       "  </tbody>\n",
       "</table>\n",
       "<p>5 rows × 28 columns</p>\n",
       "</div>"
      ],
      "text/plain": [
       "       DR_NO               Date Rptd                DATE OCC  TIME OCC  AREA  \\\n",
       "0   10304468  01/08/2020 12:00:00 AM  01/08/2020 12:00:00 AM      2230     3   \n",
       "1  190101086  01/02/2020 12:00:00 AM  01/01/2020 12:00:00 AM       330     1   \n",
       "2  200110444  04/14/2020 12:00:00 AM  02/13/2020 12:00:00 AM      1200     1   \n",
       "3  191501505  01/01/2020 12:00:00 AM  01/01/2020 12:00:00 AM      1730    15   \n",
       "4  191921269  01/01/2020 12:00:00 AM  01/01/2020 12:00:00 AM       415    19   \n",
       "\n",
       "     AREA NAME  Rpt Dist No  Part 1-2  Crm Cd  \\\n",
       "0    Southwest          377         2     624   \n",
       "1      Central          163         2     624   \n",
       "2      Central          155         2     845   \n",
       "3  N Hollywood         1543         2     745   \n",
       "4      Mission         1998         2     740   \n",
       "\n",
       "                                         Crm Cd Desc  ... Status  \\\n",
       "0                           BATTERY - SIMPLE ASSAULT  ...     AO   \n",
       "1                           BATTERY - SIMPLE ASSAULT  ...     IC   \n",
       "2          SEX OFFENDER REGISTRANT OUT OF COMPLIANCE  ...     AA   \n",
       "3           VANDALISM - MISDEAMEANOR ($399 OR UNDER)  ...     IC   \n",
       "4  VANDALISM - FELONY ($400 & OVER, ALL CHURCH VA...  ...     IC   \n",
       "\n",
       "    Status Desc Crm Cd 1 Crm Cd 2  Crm Cd 3 Crm Cd 4  \\\n",
       "0   Adult Other    624.0      NaN       NaN      NaN   \n",
       "1   Invest Cont    624.0      NaN       NaN      NaN   \n",
       "2  Adult Arrest    845.0      NaN       NaN      NaN   \n",
       "3   Invest Cont    745.0    998.0       NaN      NaN   \n",
       "4   Invest Cont    740.0      NaN       NaN      NaN   \n",
       "\n",
       "                                   LOCATION Cross Street      LAT       LON  \n",
       "0   1100 W  39TH                         PL          NaN  34.0141 -118.2978  \n",
       "1    700 S  HILL                         ST          NaN  34.0459 -118.2545  \n",
       "2    200 E  6TH                          ST          NaN  34.0448 -118.2474  \n",
       "3   5400    CORTEEN                      PL          NaN  34.1685 -118.4019  \n",
       "4  14400    TITUS                        ST          NaN  34.2198 -118.4468  \n",
       "\n",
       "[5 rows x 28 columns]"
      ]
     },
     "execution_count": 4,
     "metadata": {},
     "output_type": "execute_result"
    }
   ],
   "source": [
    "df.head()"
   ]
  },
  {
   "cell_type": "code",
   "execution_count": 5,
   "id": "7ec46d61",
   "metadata": {
    "ExecuteTime": {
     "end_time": "2023-07-20T09:32:22.040439Z",
     "start_time": "2023-07-20T09:32:21.122131Z"
    }
   },
   "outputs": [
    {
     "data": {
      "text/html": [
       "<div>\n",
       "<style scoped>\n",
       "    .dataframe tbody tr th:only-of-type {\n",
       "        vertical-align: middle;\n",
       "    }\n",
       "\n",
       "    .dataframe tbody tr th {\n",
       "        vertical-align: top;\n",
       "    }\n",
       "\n",
       "    .dataframe thead th {\n",
       "        text-align: right;\n",
       "    }\n",
       "</style>\n",
       "<table border=\"1\" class=\"dataframe\">\n",
       "  <thead>\n",
       "    <tr style=\"text-align: right;\">\n",
       "      <th></th>\n",
       "      <th>DR_NO</th>\n",
       "      <th>TIME OCC</th>\n",
       "      <th>AREA</th>\n",
       "      <th>Rpt Dist No</th>\n",
       "      <th>Part 1-2</th>\n",
       "      <th>Crm Cd</th>\n",
       "      <th>Vict Age</th>\n",
       "      <th>Premis Cd</th>\n",
       "      <th>Weapon Used Cd</th>\n",
       "      <th>Crm Cd 1</th>\n",
       "      <th>Crm Cd 2</th>\n",
       "      <th>Crm Cd 3</th>\n",
       "      <th>Crm Cd 4</th>\n",
       "      <th>LAT</th>\n",
       "      <th>LON</th>\n",
       "    </tr>\n",
       "  </thead>\n",
       "  <tbody>\n",
       "    <tr>\n",
       "      <th>count</th>\n",
       "      <td>7.529110e+05</td>\n",
       "      <td>752911.000000</td>\n",
       "      <td>752911.000000</td>\n",
       "      <td>752911.000000</td>\n",
       "      <td>752911.000000</td>\n",
       "      <td>752911.000000</td>\n",
       "      <td>752911.000000</td>\n",
       "      <td>752902.000000</td>\n",
       "      <td>261472.000000</td>\n",
       "      <td>752901.000000</td>\n",
       "      <td>55707.000000</td>\n",
       "      <td>1867.000000</td>\n",
       "      <td>56.000000</td>\n",
       "      <td>752911.000000</td>\n",
       "      <td>752911.000000</td>\n",
       "    </tr>\n",
       "    <tr>\n",
       "      <th>mean</th>\n",
       "      <td>2.147860e+08</td>\n",
       "      <td>1334.819522</td>\n",
       "      <td>10.717709</td>\n",
       "      <td>1118.176904</td>\n",
       "      <td>1.415733</td>\n",
       "      <td>500.887534</td>\n",
       "      <td>29.917438</td>\n",
       "      <td>305.961031</td>\n",
       "      <td>362.587183</td>\n",
       "      <td>500.628462</td>\n",
       "      <td>957.243758</td>\n",
       "      <td>983.637922</td>\n",
       "      <td>990.232143</td>\n",
       "      <td>33.970994</td>\n",
       "      <td>-117.997822</td>\n",
       "    </tr>\n",
       "    <tr>\n",
       "      <th>std</th>\n",
       "      <td>1.028819e+07</td>\n",
       "      <td>653.789438</td>\n",
       "      <td>6.092023</td>\n",
       "      <td>609.213814</td>\n",
       "      <td>0.492848</td>\n",
       "      <td>207.980041</td>\n",
       "      <td>21.730057</td>\n",
       "      <td>216.813311</td>\n",
       "      <td>123.718159</td>\n",
       "      <td>207.770351</td>\n",
       "      <td>111.905237</td>\n",
       "      <td>51.420326</td>\n",
       "      <td>28.834317</td>\n",
       "      <td>1.869766</td>\n",
       "      <td>6.483999</td>\n",
       "    </tr>\n",
       "    <tr>\n",
       "      <th>min</th>\n",
       "      <td>8.170000e+02</td>\n",
       "      <td>1.000000</td>\n",
       "      <td>1.000000</td>\n",
       "      <td>101.000000</td>\n",
       "      <td>1.000000</td>\n",
       "      <td>110.000000</td>\n",
       "      <td>-2.000000</td>\n",
       "      <td>101.000000</td>\n",
       "      <td>101.000000</td>\n",
       "      <td>110.000000</td>\n",
       "      <td>210.000000</td>\n",
       "      <td>434.000000</td>\n",
       "      <td>821.000000</td>\n",
       "      <td>0.000000</td>\n",
       "      <td>-118.667600</td>\n",
       "    </tr>\n",
       "    <tr>\n",
       "      <th>25%</th>\n",
       "      <td>2.021116e+08</td>\n",
       "      <td>900.000000</td>\n",
       "      <td>6.000000</td>\n",
       "      <td>622.000000</td>\n",
       "      <td>1.000000</td>\n",
       "      <td>331.000000</td>\n",
       "      <td>11.000000</td>\n",
       "      <td>101.000000</td>\n",
       "      <td>309.000000</td>\n",
       "      <td>331.000000</td>\n",
       "      <td>998.000000</td>\n",
       "      <td>998.000000</td>\n",
       "      <td>998.000000</td>\n",
       "      <td>34.013300</td>\n",
       "      <td>-118.429500</td>\n",
       "    </tr>\n",
       "    <tr>\n",
       "      <th>50%</th>\n",
       "      <td>2.119101e+08</td>\n",
       "      <td>1415.000000</td>\n",
       "      <td>11.000000</td>\n",
       "      <td>1142.000000</td>\n",
       "      <td>1.000000</td>\n",
       "      <td>442.000000</td>\n",
       "      <td>31.000000</td>\n",
       "      <td>203.000000</td>\n",
       "      <td>400.000000</td>\n",
       "      <td>442.000000</td>\n",
       "      <td>998.000000</td>\n",
       "      <td>998.000000</td>\n",
       "      <td>998.000000</td>\n",
       "      <td>34.058500</td>\n",
       "      <td>-118.321400</td>\n",
       "    </tr>\n",
       "    <tr>\n",
       "      <th>75%</th>\n",
       "      <td>2.215044e+08</td>\n",
       "      <td>1900.000000</td>\n",
       "      <td>16.000000</td>\n",
       "      <td>1618.000000</td>\n",
       "      <td>2.000000</td>\n",
       "      <td>626.000000</td>\n",
       "      <td>45.000000</td>\n",
       "      <td>501.000000</td>\n",
       "      <td>400.000000</td>\n",
       "      <td>626.000000</td>\n",
       "      <td>998.000000</td>\n",
       "      <td>998.000000</td>\n",
       "      <td>998.000000</td>\n",
       "      <td>34.163000</td>\n",
       "      <td>-118.273900</td>\n",
       "    </tr>\n",
       "    <tr>\n",
       "      <th>max</th>\n",
       "      <td>2.399165e+08</td>\n",
       "      <td>2359.000000</td>\n",
       "      <td>21.000000</td>\n",
       "      <td>2199.000000</td>\n",
       "      <td>2.000000</td>\n",
       "      <td>956.000000</td>\n",
       "      <td>120.000000</td>\n",
       "      <td>974.000000</td>\n",
       "      <td>516.000000</td>\n",
       "      <td>956.000000</td>\n",
       "      <td>999.000000</td>\n",
       "      <td>999.000000</td>\n",
       "      <td>999.000000</td>\n",
       "      <td>34.334300</td>\n",
       "      <td>0.000000</td>\n",
       "    </tr>\n",
       "  </tbody>\n",
       "</table>\n",
       "</div>"
      ],
      "text/plain": [
       "              DR_NO       TIME OCC           AREA    Rpt Dist No  \\\n",
       "count  7.529110e+05  752911.000000  752911.000000  752911.000000   \n",
       "mean   2.147860e+08    1334.819522      10.717709    1118.176904   \n",
       "std    1.028819e+07     653.789438       6.092023     609.213814   \n",
       "min    8.170000e+02       1.000000       1.000000     101.000000   \n",
       "25%    2.021116e+08     900.000000       6.000000     622.000000   \n",
       "50%    2.119101e+08    1415.000000      11.000000    1142.000000   \n",
       "75%    2.215044e+08    1900.000000      16.000000    1618.000000   \n",
       "max    2.399165e+08    2359.000000      21.000000    2199.000000   \n",
       "\n",
       "            Part 1-2         Crm Cd       Vict Age      Premis Cd  \\\n",
       "count  752911.000000  752911.000000  752911.000000  752902.000000   \n",
       "mean        1.415733     500.887534      29.917438     305.961031   \n",
       "std         0.492848     207.980041      21.730057     216.813311   \n",
       "min         1.000000     110.000000      -2.000000     101.000000   \n",
       "25%         1.000000     331.000000      11.000000     101.000000   \n",
       "50%         1.000000     442.000000      31.000000     203.000000   \n",
       "75%         2.000000     626.000000      45.000000     501.000000   \n",
       "max         2.000000     956.000000     120.000000     974.000000   \n",
       "\n",
       "       Weapon Used Cd       Crm Cd 1      Crm Cd 2     Crm Cd 3    Crm Cd 4  \\\n",
       "count   261472.000000  752901.000000  55707.000000  1867.000000   56.000000   \n",
       "mean       362.587183     500.628462    957.243758   983.637922  990.232143   \n",
       "std        123.718159     207.770351    111.905237    51.420326   28.834317   \n",
       "min        101.000000     110.000000    210.000000   434.000000  821.000000   \n",
       "25%        309.000000     331.000000    998.000000   998.000000  998.000000   \n",
       "50%        400.000000     442.000000    998.000000   998.000000  998.000000   \n",
       "75%        400.000000     626.000000    998.000000   998.000000  998.000000   \n",
       "max        516.000000     956.000000    999.000000   999.000000  999.000000   \n",
       "\n",
       "                 LAT            LON  \n",
       "count  752911.000000  752911.000000  \n",
       "mean       33.970994    -117.997822  \n",
       "std         1.869766       6.483999  \n",
       "min         0.000000    -118.667600  \n",
       "25%        34.013300    -118.429500  \n",
       "50%        34.058500    -118.321400  \n",
       "75%        34.163000    -118.273900  \n",
       "max        34.334300       0.000000  "
      ]
     },
     "execution_count": 5,
     "metadata": {},
     "output_type": "execute_result"
    }
   ],
   "source": [
    "df.describe()"
   ]
  },
  {
   "cell_type": "markdown",
   "id": "5184db0b",
   "metadata": {},
   "source": [
    "# Data cleaning"
   ]
  },
  {
   "cell_type": "code",
   "execution_count": 7,
   "id": "ce58dc11",
   "metadata": {
    "ExecuteTime": {
     "end_time": "2023-07-20T09:33:47.550429Z",
     "start_time": "2023-07-20T09:33:46.923328Z"
    }
   },
   "outputs": [
    {
     "data": {
      "text/plain": [
       "DR_NO                  0\n",
       "Date Rptd              0\n",
       "DATE OCC               0\n",
       "TIME OCC               0\n",
       "AREA                   0\n",
       "AREA NAME              0\n",
       "Rpt Dist No            0\n",
       "Part 1-2               0\n",
       "Crm Cd                 0\n",
       "Crm Cd Desc            0\n",
       "Mocodes           103261\n",
       "Vict Age               0\n",
       "Vict Sex           98230\n",
       "Vict Descent       98236\n",
       "Premis Cd              9\n",
       "Premis Desc          435\n",
       "Weapon Used Cd    491439\n",
       "Weapon Desc       491439\n",
       "Status                 0\n",
       "Status Desc            0\n",
       "Crm Cd 1              10\n",
       "Crm Cd 2          697204\n",
       "Crm Cd 3          751044\n",
       "Crm Cd 4          752855\n",
       "LOCATION               0\n",
       "Cross Street      631859\n",
       "LAT                    0\n",
       "LON                    0\n",
       "dtype: int64"
      ]
     },
     "execution_count": 7,
     "metadata": {},
     "output_type": "execute_result"
    }
   ],
   "source": [
    "#check for missing values\n",
    "df.isnull().sum()"
   ]
  },
  {
   "cell_type": "code",
   "execution_count": 8,
   "id": "da919416",
   "metadata": {
    "ExecuteTime": {
     "end_time": "2023-07-20T09:34:27.098631Z",
     "start_time": "2023-07-20T09:34:26.287831Z"
    }
   },
   "outputs": [],
   "source": [
    "#Drop rows with missing values (if required)\n",
    "df.dropna(inplace=True)"
   ]
  },
  {
   "cell_type": "code",
   "execution_count": 9,
   "id": "9c17412d",
   "metadata": {
    "ExecuteTime": {
     "end_time": "2023-07-20T09:34:50.549039Z",
     "start_time": "2023-07-20T09:34:50.527259Z"
    }
   },
   "outputs": [
    {
     "data": {
      "text/plain": [
       "0"
      ]
     },
     "execution_count": 9,
     "metadata": {},
     "output_type": "execute_result"
    }
   ],
   "source": [
    "#check for duplicate rows\n",
    "df.duplicated().sum()"
   ]
  },
  {
   "cell_type": "code",
   "execution_count": 10,
   "id": "406e3273",
   "metadata": {
    "ExecuteTime": {
     "end_time": "2023-07-20T09:36:37.165348Z",
     "start_time": "2023-07-20T09:36:37.139407Z"
    }
   },
   "outputs": [],
   "source": [
    "#Drop duplicated rows if required\n",
    "df.drop_duplicates(inplace=True)"
   ]
  },
  {
   "cell_type": "markdown",
   "id": "64cba1f1",
   "metadata": {},
   "source": [
    "# Crime Frequency Analysis "
   ]
  },
  {
   "cell_type": "code",
   "execution_count": 11,
   "id": "b9676be4",
   "metadata": {
    "ExecuteTime": {
     "end_time": "2023-07-20T09:40:05.996000Z",
     "start_time": "2023-07-20T09:40:05.700334Z"
    }
   },
   "outputs": [
    {
     "data": {
      "image/png": "[encoded data removed]",
      "text/plain": [
       "<Figure size 720x432 with 1 Axes>"
      ]
     },
     "metadata": {
      "needs_background": "light"
     },
     "output_type": "display_data"
    }
   ],
   "source": [
    "crime_counts = df[\"Crm Cd Desc\"].value_counts()\n",
    "\n",
    "#plot the top 10 most frequent crimes\n",
    "plt.figure(figsize=(10,6))\n",
    "sns.barplot(x=crime_counts.head(10).values,y=crime_counts.head(10).index)\n",
    "plt.xlabel(\"Count\")\n",
    "plt.ylabel(\"Crime Type\")\n",
    "plt.title(\"Top 10 Most Frequent Crimes\")\n",
    "plt.show()"
   ]
  },
  {
   "cell_type": "markdown",
   "id": "40bd0f92",
   "metadata": {},
   "source": [
    "# Time Series Analysis"
   ]
  },
  {
   "cell_type": "code",
   "execution_count": 12,
   "id": "14c5acff",
   "metadata": {
    "ExecuteTime": {
     "end_time": "2023-07-20T09:43:05.566965Z",
     "start_time": "2023-07-20T09:43:05.559986Z"
    },
    "scrolled": true
   },
   "outputs": [
    {
     "name": "stdout",
     "output_type": "stream",
     "text": [
      "Index(['DR_NO', 'Date Rptd', 'DATE OCC', 'TIME OCC', 'AREA', 'AREA NAME',\n",
      "       'Rpt Dist No', 'Part 1-2', 'Crm Cd', 'Crm Cd Desc', 'Mocodes',\n",
      "       'Vict Age', 'Vict Sex', 'Vict Descent', 'Premis Cd', 'Premis Desc',\n",
      "       'Weapon Used Cd', 'Weapon Desc', 'Status', 'Status Desc', 'Crm Cd 1',\n",
      "       'Crm Cd 2', 'Crm Cd 3', 'Crm Cd 4', 'LOCATION', 'Cross Street', 'LAT',\n",
      "       'LON'],\n",
      "      dtype='object')\n"
     ]
    }
   ],
   "source": [
    "print(df.columns)"
   ]
  },
  {
   "cell_type": "code",
   "execution_count": 14,
   "id": "f4473dbc",
   "metadata": {
    "ExecuteTime": {
     "end_time": "2023-07-20T09:51:35.968660Z",
     "start_time": "2023-07-20T09:51:35.564739Z"
    }
   },
   "outputs": [
    {
     "data": {
      "image/png": "[encoded data removed]",
      "text/plain": [
       "<Figure size 720x432 with 1 Axes>"
      ]
     },
     "metadata": {
      "needs_background": "light"
     },
     "output_type": "display_data"
    },
    {
     "data": {
      "image/png": "[encoded data removed]",
      "text/plain": [
       "<Figure size 720x432 with 1 Axes>"
      ]
     },
     "metadata": {
      "needs_background": "light"
     },
     "output_type": "display_data"
    }
   ],
   "source": [
    "#convert 'DATE OCC' column to datetime format\n",
    "df[\"DATE OCC\"] = pd.to_datetime(df[\"DATE OCC\"])\n",
    "\n",
    "#Extract month and day of the week information\n",
    "df[\"Month\"] = df[\"DATE OCC\"].dt.month\n",
    "df[\"Day of Week\"] = df[\"DATE OCC\"].dt.day_name()\n",
    "\n",
    "# Plot crime occurrences by month\n",
    "plt.figure(figsize=(10, 6))\n",
    "sns.countplot(x='Month', data=df)\n",
    "plt.xlabel('Month')\n",
    "plt.ylabel('Number of Crimes')\n",
    "plt.title('Monthly Crime Occurrences')\n",
    "plt.show()\n",
    "\n",
    "# Plot crime occurrences by day of the week\n",
    "plt.figure(figsize=(10, 6))\n",
    "sns.countplot(x='Day of Week', data=df)\n",
    "plt.xlabel('Day of the Week')\n",
    "plt.ylabel('Number of Crimes')\n",
    "plt.title('Daily Crime Occurrences')\n",
    "plt.show()"
   ]
  },
  {
   "cell_type": "markdown",
   "id": "091de5d5",
   "metadata": {},
   "source": [
    "# Crime Mapping"
   ]
  },
  {
   "cell_type": "code",
   "execution_count": 15,
   "id": "cbbfb8db",
   "metadata": {
    "ExecuteTime": {
     "end_time": "2023-07-20T09:52:40.762793Z",
     "start_time": "2023-07-20T09:52:40.053189Z"
    }
   },
   "outputs": [
    {
     "data": {
      "text/html": [
       "<div style=\"width:100%;\"><div style=\"position:relative;width:100%;height:0;padding-bottom:60%;\"><span style=\"color:#565656\">Make this Notebook Trusted to load map: File -> Trust Notebook</span><iframe srcdoc=\"&lt;!DOCTYPE html&gt;\n",
       "&lt;html&gt;\n",
       "&lt;head&gt;\n",
       "    \n",
       "    &lt;meta http-equiv=&quot;content-type&quot; content=&quot;text/html; charset=UTF-8&quot; /&gt;\n",
       "    \n",
       "        &lt;script&gt;\n",
       "            L_NO_TOUCH = false;\n",
       "            L_DISABLE_3D = false;\n",
       "        &lt;/script&gt;\n",
       "    \n",
       "    &lt;style&gt;html, body {width: 100%;height: 100%;margin: 0;padding: 0;}&lt;/style&gt;\n",
       "    &lt;style&gt;#map {position:absolute;top:0;bottom:0;right:0;left:0;}&lt;/style&gt;\n",
       "    &lt;script src=&quot;https://cdn.jsdelivr.net/npm/leaflet@1.9.3/dist/leaflet.js&quot;&gt;&lt;/script&gt;\n",
       "    &lt;script src=&quot;https://code.jquery.com/jquery-1.12.4.min.js&quot;&gt;&lt;/script&gt;\n",
       "    &lt;script src=&quot;https://cdn.jsdelivr.net/npm/bootstrap@5.2.2/dist/js/bootstrap.bundle.min.js&quot;&gt;&lt;/script&gt;\n",
       "    &lt;script src=&quot;https://cdnjs.cloudflare.com/ajax/libs/Leaflet.awesome-markers/2.0.2/leaflet.awesome-markers.js&quot;&gt;&lt;/script&gt;\n",
       "    &lt;link rel=&quot;stylesheet&quot; href=&quot;https://cdn.jsdelivr.net/npm/leaflet@1.9.3/dist/leaflet.css&quot;/&gt;\n",
       "    &lt;link rel=&quot;stylesheet&quot; href=&quot;https://cdn.jsdelivr.net/npm/bootstrap@5.2.2/dist/css/bootstrap.min.css&quot;/&gt;\n",
       "    &lt;link rel=&quot;stylesheet&quot; href=&quot;https://netdna.bootstrapcdn.com/bootstrap/3.0.0/css/bootstrap.min.css&quot;/&gt;\n",
       "    &lt;link rel=&quot;stylesheet&quot; href=&quot;https://cdn.jsdelivr.net/npm/@fortawesome/fontawesome-free@6.2.0/css/all.min.css&quot;/&gt;\n",
       "    &lt;link rel=&quot;stylesheet&quot; href=&quot;https://cdnjs.cloudflare.com/ajax/libs/Leaflet.awesome-markers/2.0.2/leaflet.awesome-markers.css&quot;/&gt;\n",
       "    &lt;link rel=&quot;stylesheet&quot; href=&quot;https://cdn.jsdelivr.net/gh/python-visualization/folium/folium/templates/leaflet.awesome.rotate.min.css&quot;/&gt;\n",
       "    \n",
       "            &lt;meta name=&quot;viewport&quot; content=&quot;width=device-width,\n",
       "                initial-scale=1.0, maximum-scale=1.0, user-scalable=no&quot; /&gt;\n",
       "            &lt;style&gt;\n",
       "                #map_889de833d20b49d2524eafdc748807cb {\n",
       "                    position: relative;\n",
       "                    width: 100.0%;\n",
       "                    height: 100.0%;\n",
       "                    left: 0.0%;\n",
       "                    top: 0.0%;\n",
       "                }\n",
       "                .leaflet-container { font-size: 1rem; }\n",
       "            &lt;/style&gt;\n",
       "        \n",
       "&lt;/head&gt;\n",
       "&lt;body&gt;\n",
       "    \n",
       "    \n",
       "            &lt;div class=&quot;folium-map&quot; id=&quot;map_889de833d20b49d2524eafdc748807cb&quot; &gt;&lt;/div&gt;\n",
       "        \n",
       "&lt;/body&gt;\n",
       "&lt;script&gt;\n",
       "    \n",
       "    \n",
       "            var map_889de833d20b49d2524eafdc748807cb = L.map(\n",
       "                &quot;map_889de833d20b49d2524eafdc748807cb&quot;,\n",
       "                {\n",
       "                    center: [34.0522, -118.2437],\n",
       "                    crs: L.CRS.EPSG3857,\n",
       "                    zoom: 12,\n",
       "                    zoomControl: true,\n",
       "                    preferCanvas: false,\n",
       "                }\n",
       "            );\n",
       "\n",
       "            \n",
       "\n",
       "        \n",
       "    \n",
       "            var tile_layer_a5d963a720f2ed825c4ef07a3a2f676f = L.tileLayer(\n",
       "                &quot;https://{s}.tile.openstreetmap.org/{z}/{x}/{y}.png&quot;,\n",
       "                {&quot;attribution&quot;: &quot;Data by \\u0026copy; \\u003ca target=\\&quot;_blank\\&quot; href=\\&quot;http://openstreetmap.org\\&quot;\\u003eOpenStreetMap\\u003c/a\\u003e, under \\u003ca target=\\&quot;_blank\\&quot; href=\\&quot;http://www.openstreetmap.org/copyright\\&quot;\\u003eODbL\\u003c/a\\u003e.&quot;, &quot;detectRetina&quot;: false, &quot;maxNativeZoom&quot;: 18, &quot;maxZoom&quot;: 18, &quot;minZoom&quot;: 0, &quot;noWrap&quot;: false, &quot;opacity&quot;: 1, &quot;subdomains&quot;: &quot;abc&quot;, &quot;tms&quot;: false}\n",
       "            ).addTo(map_889de833d20b49d2524eafdc748807cb);\n",
       "        \n",
       "    \n",
       "            var marker_080f1ad279031ae6c73adab7abc6f5b4 = L.marker(\n",
       "                [34.0885, -118.3092],\n",
       "                {}\n",
       "            ).addTo(map_889de833d20b49d2524eafdc748807cb);\n",
       "        \n",
       "    \n",
       "        var popup_469c4f4ebaa57c1314096bc1864ab5d8 = L.popup({&quot;maxWidth&quot;: &quot;100%&quot;});\n",
       "\n",
       "        \n",
       "            \n",
       "                var html_6eef00be05831c9d7ef6c59382834760 = $(`&lt;div id=&quot;html_6eef00be05831c9d7ef6c59382834760&quot; style=&quot;width: 100.0%; height: 100.0%;&quot;&gt;BRANDISH WEAPON&lt;/div&gt;`)[0];\n",
       "                popup_469c4f4ebaa57c1314096bc1864ab5d8.setContent(html_6eef00be05831c9d7ef6c59382834760);\n",
       "            \n",
       "        \n",
       "\n",
       "        marker_080f1ad279031ae6c73adab7abc6f5b4.bindPopup(popup_469c4f4ebaa57c1314096bc1864ab5d8)\n",
       "        ;\n",
       "\n",
       "        \n",
       "    \n",
       "    \n",
       "            var marker_5dc7abfae47f87ba0cd5c63406ab8144 = L.marker(\n",
       "                [34.2949, -118.4571],\n",
       "                {}\n",
       "            ).addTo(map_889de833d20b49d2524eafdc748807cb);\n",
       "        \n",
       "    \n",
       "        var popup_800d6988d35bccc6f940150599afeb8f = L.popup({&quot;maxWidth&quot;: &quot;100%&quot;});\n",
       "\n",
       "        \n",
       "            \n",
       "                var html_6223cec006cb7c4e85900b453b6ad5af = $(`&lt;div id=&quot;html_6223cec006cb7c4e85900b453b6ad5af&quot; style=&quot;width: 100.0%; height: 100.0%;&quot;&gt;BRANDISH WEAPON&lt;/div&gt;`)[0];\n",
       "                popup_800d6988d35bccc6f940150599afeb8f.setContent(html_6223cec006cb7c4e85900b453b6ad5af);\n",
       "            \n",
       "        \n",
       "\n",
       "        marker_5dc7abfae47f87ba0cd5c63406ab8144.bindPopup(popup_800d6988d35bccc6f940150599afeb8f)\n",
       "        ;\n",
       "\n",
       "        \n",
       "    \n",
       "    \n",
       "            var marker_89a45b1a994ccc363a2b5b58713c2345 = L.marker(\n",
       "                [34.0966, -118.3005],\n",
       "                {}\n",
       "            ).addTo(map_889de833d20b49d2524eafdc748807cb);\n",
       "        \n",
       "    \n",
       "        var popup_f3fd684277bfdcea9f0524f195d02f10 = L.popup({&quot;maxWidth&quot;: &quot;100%&quot;});\n",
       "\n",
       "        \n",
       "            \n",
       "                var html_c6f2954810884e3d44b6a11a8350a9d4 = $(`&lt;div id=&quot;html_c6f2954810884e3d44b6a11a8350a9d4&quot; style=&quot;width: 100.0%; height: 100.0%;&quot;&gt;RAPE, FORCIBLE&lt;/div&gt;`)[0];\n",
       "                popup_f3fd684277bfdcea9f0524f195d02f10.setContent(html_c6f2954810884e3d44b6a11a8350a9d4);\n",
       "            \n",
       "        \n",
       "\n",
       "        marker_89a45b1a994ccc363a2b5b58713c2345.bindPopup(popup_f3fd684277bfdcea9f0524f195d02f10)\n",
       "        ;\n",
       "\n",
       "        \n",
       "    \n",
       "    \n",
       "            var marker_76cf98a6ba285c13e922ef6f685a8cf9 = L.marker(\n",
       "                [34.0503, -118.272],\n",
       "                {}\n",
       "            ).addTo(map_889de833d20b49d2524eafdc748807cb);\n",
       "        \n",
       "    \n",
       "        var popup_eb5ab6de708f172679e58454ba890789 = L.popup({&quot;maxWidth&quot;: &quot;100%&quot;});\n",
       "\n",
       "        \n",
       "            \n",
       "                var html_8c53fd6f5049d40277cc09780692a3eb = $(`&lt;div id=&quot;html_8c53fd6f5049d40277cc09780692a3eb&quot; style=&quot;width: 100.0%; height: 100.0%;&quot;&gt;ROBBERY&lt;/div&gt;`)[0];\n",
       "                popup_eb5ab6de708f172679e58454ba890789.setContent(html_8c53fd6f5049d40277cc09780692a3eb);\n",
       "            \n",
       "        \n",
       "\n",
       "        marker_76cf98a6ba285c13e922ef6f685a8cf9.bindPopup(popup_eb5ab6de708f172679e58454ba890789)\n",
       "        ;\n",
       "\n",
       "        \n",
       "    \n",
       "    \n",
       "            var marker_a9e0dedd9e7202ccddb9207b5c4b59f4 = L.marker(\n",
       "                [34.0997, -118.3363],\n",
       "                {}\n",
       "            ).addTo(map_889de833d20b49d2524eafdc748807cb);\n",
       "        \n",
       "    \n",
       "        var popup_ca96cb6f25574f74941b41c450513cd2 = L.popup({&quot;maxWidth&quot;: &quot;100%&quot;});\n",
       "\n",
       "        \n",
       "            \n",
       "                var html_606d8153e223f86d28c14e6db5ef6ae1 = $(`&lt;div id=&quot;html_606d8153e223f86d28c14e6db5ef6ae1&quot; style=&quot;width: 100.0%; height: 100.0%;&quot;&gt;SODOMY/SEXUAL CONTACT B/W PENIS OF ONE PERS TO ANUS OTH&lt;/div&gt;`)[0];\n",
       "                popup_ca96cb6f25574f74941b41c450513cd2.setContent(html_606d8153e223f86d28c14e6db5ef6ae1);\n",
       "            \n",
       "        \n",
       "\n",
       "        marker_a9e0dedd9e7202ccddb9207b5c4b59f4.bindPopup(popup_ca96cb6f25574f74941b41c450513cd2)\n",
       "        ;\n",
       "\n",
       "        \n",
       "    \n",
       "    \n",
       "            var marker_0466d71bbd6cd1df9e1acc8a065dee16 = L.marker(\n",
       "                [34.2285, -118.4939],\n",
       "                {}\n",
       "            ).addTo(map_889de833d20b49d2524eafdc748807cb);\n",
       "        \n",
       "    \n",
       "        var popup_81b0ae1a8ec960ddae3db558c80d5b00 = L.popup({&quot;maxWidth&quot;: &quot;100%&quot;});\n",
       "\n",
       "        \n",
       "            \n",
       "                var html_96de70c2bd1c008144a649930768deb3 = $(`&lt;div id=&quot;html_96de70c2bd1c008144a649930768deb3&quot; style=&quot;width: 100.0%; height: 100.0%;&quot;&gt;RAPE, ATTEMPTED&lt;/div&gt;`)[0];\n",
       "                popup_81b0ae1a8ec960ddae3db558c80d5b00.setContent(html_96de70c2bd1c008144a649930768deb3);\n",
       "            \n",
       "        \n",
       "\n",
       "        marker_0466d71bbd6cd1df9e1acc8a065dee16.bindPopup(popup_81b0ae1a8ec960ddae3db558c80d5b00)\n",
       "        ;\n",
       "\n",
       "        \n",
       "    \n",
       "    \n",
       "            var marker_750e042f7dccedf5f8d2ed2b595d29b2 = L.marker(\n",
       "                [33.9792, -118.4666],\n",
       "                {}\n",
       "            ).addTo(map_889de833d20b49d2524eafdc748807cb);\n",
       "        \n",
       "    \n",
       "        var popup_b47215e90f4b06ee49871f85a21f9366 = L.popup({&quot;maxWidth&quot;: &quot;100%&quot;});\n",
       "\n",
       "        \n",
       "            \n",
       "                var html_deed65aff0936845dc096bdccc889178 = $(`&lt;div id=&quot;html_deed65aff0936845dc096bdccc889178&quot; style=&quot;width: 100.0%; height: 100.0%;&quot;&gt;KIDNAPPING&lt;/div&gt;`)[0];\n",
       "                popup_b47215e90f4b06ee49871f85a21f9366.setContent(html_deed65aff0936845dc096bdccc889178);\n",
       "            \n",
       "        \n",
       "\n",
       "        marker_750e042f7dccedf5f8d2ed2b595d29b2.bindPopup(popup_b47215e90f4b06ee49871f85a21f9366)\n",
       "        ;\n",
       "\n",
       "        \n",
       "    \n",
       "&lt;/script&gt;\n",
       "&lt;/html&gt;\" style=\"position:absolute;width:100%;height:100%;left:0;top:0;border:none !important;\" allowfullscreen webkitallowfullscreen mozallowfullscreen></iframe></div></div>"
      ],
      "text/plain": [
       "<folium.folium.Map at 0x1cf9526e340>"
      ]
     },
     "execution_count": 15,
     "metadata": {},
     "output_type": "execute_result"
    }
   ],
   "source": [
    "import folium\n",
    "\n",
    "# Create a map centered at a specific location (e.g., Los Angeles)\n",
    "crime_map = folium.Map(location=[34.0522, -118.2437], zoom_start=12)\n",
    "\n",
    "# Add crime locations as markers on the map\n",
    "for index, row in df.iterrows():\n",
    "    folium.Marker(location=[row['LAT'], row['LON']], popup=row['Crm Cd Desc']).add_to(crime_map)\n",
    "\n",
    "# Display the map\n",
    "crime_map.save('crime_map.html')  # Save the map as an HTML file\n",
    "crime_map"
   ]
  },
  {
   "cell_type": "code",
   "execution_count": 16,
   "id": "08b5c7bf",
   "metadata": {
    "ExecuteTime": {
     "end_time": "2023-07-20T09:52:56.117594Z",
     "start_time": "2023-07-20T09:52:56.053763Z"
    }
   },
   "outputs": [
    {
     "data": {
      "text/html": [
       "<div>\n",
       "<style scoped>\n",
       "    .dataframe tbody tr th:only-of-type {\n",
       "        vertical-align: middle;\n",
       "    }\n",
       "\n",
       "    .dataframe tbody tr th {\n",
       "        vertical-align: top;\n",
       "    }\n",
       "\n",
       "    .dataframe thead th {\n",
       "        text-align: right;\n",
       "    }\n",
       "</style>\n",
       "<table border=\"1\" class=\"dataframe\">\n",
       "  <thead>\n",
       "    <tr style=\"text-align: right;\">\n",
       "      <th></th>\n",
       "      <th>DR_NO</th>\n",
       "      <th>Date Rptd</th>\n",
       "      <th>DATE OCC</th>\n",
       "      <th>TIME OCC</th>\n",
       "      <th>AREA</th>\n",
       "      <th>AREA NAME</th>\n",
       "      <th>Rpt Dist No</th>\n",
       "      <th>Part 1-2</th>\n",
       "      <th>Crm Cd</th>\n",
       "      <th>Crm Cd Desc</th>\n",
       "      <th>...</th>\n",
       "      <th>Crm Cd 1</th>\n",
       "      <th>Crm Cd 2</th>\n",
       "      <th>Crm Cd 3</th>\n",
       "      <th>Crm Cd 4</th>\n",
       "      <th>LOCATION</th>\n",
       "      <th>Cross Street</th>\n",
       "      <th>LAT</th>\n",
       "      <th>LON</th>\n",
       "      <th>Month</th>\n",
       "      <th>Day of Week</th>\n",
       "    </tr>\n",
       "  </thead>\n",
       "  <tbody>\n",
       "    <tr>\n",
       "      <th>52007</th>\n",
       "      <td>200613424</td>\n",
       "      <td>08/02/2020 12:00:00 AM</td>\n",
       "      <td>2020-08-02</td>\n",
       "      <td>2030</td>\n",
       "      <td>6</td>\n",
       "      <td>Hollywood</td>\n",
       "      <td>657</td>\n",
       "      <td>1</td>\n",
       "      <td>761</td>\n",
       "      <td>BRANDISH WEAPON</td>\n",
       "      <td>...</td>\n",
       "      <td>761.0</td>\n",
       "      <td>920.0</td>\n",
       "      <td>930.0</td>\n",
       "      <td>998.0</td>\n",
       "      <td>WESTERN</td>\n",
       "      <td>ROMAINE</td>\n",
       "      <td>34.0885</td>\n",
       "      <td>-118.3092</td>\n",
       "      <td>8</td>\n",
       "      <td>Sunday</td>\n",
       "    </tr>\n",
       "    <tr>\n",
       "      <th>126196</th>\n",
       "      <td>201904032</td>\n",
       "      <td>01/02/2020 12:00:00 AM</td>\n",
       "      <td>2020-01-01</td>\n",
       "      <td>2135</td>\n",
       "      <td>19</td>\n",
       "      <td>Mission</td>\n",
       "      <td>1924</td>\n",
       "      <td>1</td>\n",
       "      <td>761</td>\n",
       "      <td>BRANDISH WEAPON</td>\n",
       "      <td>...</td>\n",
       "      <td>761.0</td>\n",
       "      <td>930.0</td>\n",
       "      <td>997.0</td>\n",
       "      <td>998.0</td>\n",
       "      <td>ASTORIA                      ST</td>\n",
       "      <td>SAN FERNANDO                 RD</td>\n",
       "      <td>34.2949</td>\n",
       "      <td>-118.4571</td>\n",
       "      <td>1</td>\n",
       "      <td>Wednesday</td>\n",
       "    </tr>\n",
       "    <tr>\n",
       "      <th>362633</th>\n",
       "      <td>210617136</td>\n",
       "      <td>10/08/2021 12:00:00 AM</td>\n",
       "      <td>2021-10-07</td>\n",
       "      <td>1950</td>\n",
       "      <td>6</td>\n",
       "      <td>Hollywood</td>\n",
       "      <td>659</td>\n",
       "      <td>1</td>\n",
       "      <td>121</td>\n",
       "      <td>RAPE, FORCIBLE</td>\n",
       "      <td>...</td>\n",
       "      <td>121.0</td>\n",
       "      <td>210.0</td>\n",
       "      <td>910.0</td>\n",
       "      <td>998.0</td>\n",
       "      <td>NORMANDIE</td>\n",
       "      <td>DE LONGPRE</td>\n",
       "      <td>34.0966</td>\n",
       "      <td>-118.3005</td>\n",
       "      <td>10</td>\n",
       "      <td>Thursday</td>\n",
       "    </tr>\n",
       "    <tr>\n",
       "      <th>371379</th>\n",
       "      <td>210209196</td>\n",
       "      <td>05/08/2021 12:00:00 AM</td>\n",
       "      <td>2021-05-08</td>\n",
       "      <td>230</td>\n",
       "      <td>2</td>\n",
       "      <td>Rampart</td>\n",
       "      <td>279</td>\n",
       "      <td>1</td>\n",
       "      <td>210</td>\n",
       "      <td>ROBBERY</td>\n",
       "      <td>...</td>\n",
       "      <td>210.0</td>\n",
       "      <td>510.0</td>\n",
       "      <td>910.0</td>\n",
       "      <td>998.0</td>\n",
       "      <td>JAMES M WOOD</td>\n",
       "      <td>GREEN</td>\n",
       "      <td>34.0503</td>\n",
       "      <td>-118.2720</td>\n",
       "      <td>5</td>\n",
       "      <td>Saturday</td>\n",
       "    </tr>\n",
       "    <tr>\n",
       "      <th>488257</th>\n",
       "      <td>220600626</td>\n",
       "      <td>04/27/2022 12:00:00 AM</td>\n",
       "      <td>2022-04-23</td>\n",
       "      <td>2300</td>\n",
       "      <td>6</td>\n",
       "      <td>Hollywood</td>\n",
       "      <td>646</td>\n",
       "      <td>1</td>\n",
       "      <td>821</td>\n",
       "      <td>SODOMY/SEXUAL CONTACT B/W PENIS OF ONE PERS TO...</td>\n",
       "      <td>...</td>\n",
       "      <td>230.0</td>\n",
       "      <td>821.0</td>\n",
       "      <td>910.0</td>\n",
       "      <td>998.0</td>\n",
       "      <td>SELMA</td>\n",
       "      <td>LAS PALMAS</td>\n",
       "      <td>34.0997</td>\n",
       "      <td>-118.3363</td>\n",
       "      <td>4</td>\n",
       "      <td>Saturday</td>\n",
       "    </tr>\n",
       "    <tr>\n",
       "      <th>535727</th>\n",
       "      <td>221718232</td>\n",
       "      <td>12/25/2022 12:00:00 AM</td>\n",
       "      <td>2022-12-25</td>\n",
       "      <td>1150</td>\n",
       "      <td>17</td>\n",
       "      <td>Devonshire</td>\n",
       "      <td>1797</td>\n",
       "      <td>1</td>\n",
       "      <td>122</td>\n",
       "      <td>RAPE, ATTEMPTED</td>\n",
       "      <td>...</td>\n",
       "      <td>122.0</td>\n",
       "      <td>230.0</td>\n",
       "      <td>910.0</td>\n",
       "      <td>998.0</td>\n",
       "      <td>PARTHENIA                    ST</td>\n",
       "      <td>HAYVENHURST</td>\n",
       "      <td>34.2285</td>\n",
       "      <td>-118.4939</td>\n",
       "      <td>12</td>\n",
       "      <td>Sunday</td>\n",
       "    </tr>\n",
       "    <tr>\n",
       "      <th>583541</th>\n",
       "      <td>221401314</td>\n",
       "      <td>11/10/2022 12:00:00 AM</td>\n",
       "      <td>2022-11-10</td>\n",
       "      <td>2117</td>\n",
       "      <td>14</td>\n",
       "      <td>Pacific</td>\n",
       "      <td>1452</td>\n",
       "      <td>2</td>\n",
       "      <td>910</td>\n",
       "      <td>KIDNAPPING</td>\n",
       "      <td>...</td>\n",
       "      <td>812.0</td>\n",
       "      <td>860.0</td>\n",
       "      <td>910.0</td>\n",
       "      <td>998.0</td>\n",
       "      <td>WASHINGTON</td>\n",
       "      <td>SPEEDWAY</td>\n",
       "      <td>33.9792</td>\n",
       "      <td>-118.4666</td>\n",
       "      <td>11</td>\n",
       "      <td>Thursday</td>\n",
       "    </tr>\n",
       "  </tbody>\n",
       "</table>\n",
       "<p>7 rows × 30 columns</p>\n",
       "</div>"
      ],
      "text/plain": [
       "            DR_NO               Date Rptd   DATE OCC  TIME OCC  AREA  \\\n",
       "52007   200613424  08/02/2020 12:00:00 AM 2020-08-02      2030     6   \n",
       "126196  201904032  01/02/2020 12:00:00 AM 2020-01-01      2135    19   \n",
       "362633  210617136  10/08/2021 12:00:00 AM 2021-10-07      1950     6   \n",
       "371379  210209196  05/08/2021 12:00:00 AM 2021-05-08       230     2   \n",
       "488257  220600626  04/27/2022 12:00:00 AM 2022-04-23      2300     6   \n",
       "535727  221718232  12/25/2022 12:00:00 AM 2022-12-25      1150    17   \n",
       "583541  221401314  11/10/2022 12:00:00 AM 2022-11-10      2117    14   \n",
       "\n",
       "         AREA NAME  Rpt Dist No  Part 1-2  Crm Cd  \\\n",
       "52007    Hollywood          657         1     761   \n",
       "126196     Mission         1924         1     761   \n",
       "362633   Hollywood          659         1     121   \n",
       "371379     Rampart          279         1     210   \n",
       "488257   Hollywood          646         1     821   \n",
       "535727  Devonshire         1797         1     122   \n",
       "583541     Pacific         1452         2     910   \n",
       "\n",
       "                                              Crm Cd Desc  ... Crm Cd 1  \\\n",
       "52007                                     BRANDISH WEAPON  ...    761.0   \n",
       "126196                                    BRANDISH WEAPON  ...    761.0   \n",
       "362633                                     RAPE, FORCIBLE  ...    121.0   \n",
       "371379                                            ROBBERY  ...    210.0   \n",
       "488257  SODOMY/SEXUAL CONTACT B/W PENIS OF ONE PERS TO...  ...    230.0   \n",
       "535727                                    RAPE, ATTEMPTED  ...    122.0   \n",
       "583541                                         KIDNAPPING  ...    812.0   \n",
       "\n",
       "        Crm Cd 2 Crm Cd 3 Crm Cd 4                         LOCATION  \\\n",
       "52007      920.0    930.0    998.0                          WESTERN   \n",
       "126196     930.0    997.0    998.0  ASTORIA                      ST   \n",
       "362633     210.0    910.0    998.0                        NORMANDIE   \n",
       "371379     510.0    910.0    998.0                     JAMES M WOOD   \n",
       "488257     821.0    910.0    998.0                            SELMA   \n",
       "535727     230.0    910.0    998.0  PARTHENIA                    ST   \n",
       "583541     860.0    910.0    998.0                       WASHINGTON   \n",
       "\n",
       "                           Cross Street      LAT       LON Month Day of Week  \n",
       "52007                           ROMAINE  34.0885 -118.3092     8      Sunday  \n",
       "126196  SAN FERNANDO                 RD  34.2949 -118.4571     1   Wednesday  \n",
       "362633                       DE LONGPRE  34.0966 -118.3005    10    Thursday  \n",
       "371379                            GREEN  34.0503 -118.2720     5    Saturday  \n",
       "488257                       LAS PALMAS  34.0997 -118.3363     4    Saturday  \n",
       "535727                      HAYVENHURST  34.2285 -118.4939    12      Sunday  \n",
       "583541                         SPEEDWAY  33.9792 -118.4666    11    Thursday  \n",
       "\n",
       "[7 rows x 30 columns]"
      ]
     },
     "execution_count": 16,
     "metadata": {},
     "output_type": "execute_result"
    }
   ],
   "source": [
    "df"
   ]
  },
  {
   "cell_type": "markdown",
   "id": "42d9cf73",
   "metadata": {},
   "source": [
    "# EDA visualizations"
   ]
  },
  {
   "cell_type": "code",
   "execution_count": 19,
   "id": "4e252987",
   "metadata": {
    "ExecuteTime": {
     "end_time": "2023-07-20T09:59:01.434551Z",
     "start_time": "2023-07-20T09:59:01.268993Z"
    }
   },
   "outputs": [
    {
     "data": {
      "image/png": "[encoded data removed]",
      "text/plain": [
       "<Figure size 576x576 with 1 Axes>"
      ]
     },
     "metadata": {},
     "output_type": "display_data"
    }
   ],
   "source": [
    "# Step 1: Crime Type Distribution - Pie Chart\n",
    "crime_type_counts = df['Crm Cd Desc'].value_counts()\n",
    "top_10_crime_types = crime_type_counts.head(10)\n",
    "\n",
    "plt.figure(figsize=(8, 8))\n",
    "plt.pie(top_10_crime_types, labels=top_10_crime_types.index, autopct='%1.1f%%')\n",
    "plt.title('Top 10 Crime Types Distribution')\n",
    "plt.show()"
   ]
  },
  {
   "cell_type": "code",
   "execution_count": 20,
   "id": "3b993c65",
   "metadata": {
    "ExecuteTime": {
     "end_time": "2023-07-20T10:02:31.809246Z",
     "start_time": "2023-07-20T10:02:31.638703Z"
    }
   },
   "outputs": [
    {
     "data": {
      "image/png": "[encoded data removed]",
      "text/plain": [
       "<Figure size 576x576 with 1 Axes>"
      ]
     },
     "metadata": {},
     "output_type": "display_data"
    }
   ],
   "source": [
    "#Step2 :  Crimes by Different Areas - pie chart\n",
    "crime_area_counts = df[\"AREA NAME\"].value_counts()\n",
    "\n",
    "plt.figure(figsize=(8,8))\n",
    "plt.pie(crime_area_counts,labels=crime_area_counts.index,autopct=\"%1.1f%%\")\n",
    "plt.title(\"Percentage of Crimes by Different Areas\")\n",
    "plt.show()"
   ]
  },
  {
   "cell_type": "code",
   "execution_count": 21,
   "id": "1a244b6a",
   "metadata": {
    "ExecuteTime": {
     "end_time": "2023-07-20T10:53:29.027660Z",
     "start_time": "2023-07-20T10:53:28.878833Z"
    }
   },
   "outputs": [
    {
     "data": {
      "image/png": "[encoded data removed]",
      "text/plain": [
       "<Figure size 576x576 with 1 Axes>"
      ]
     },
     "metadata": {},
     "output_type": "display_data"
    }
   ],
   "source": [
    "#1 : Crime Status Distribution - Pie chart\n",
    "crime_status_counts = df[\"Status Desc\"].value_counts()\n",
    "\n",
    "plt.figure(figsize=(8,8))\n",
    "plt.pie(crime_status_counts,labels=crime_status_counts.index,autopct=\"%1.1f%%\")\n",
    "plt.title(\"Crime Status Distribution\")\n",
    "plt.show()"
   ]
  },
  {
   "cell_type": "code",
   "execution_count": 24,
   "id": "263fc373",
   "metadata": {
    "ExecuteTime": {
     "end_time": "2023-07-20T10:58:02.250488Z",
     "start_time": "2023-07-20T10:58:02.127817Z"
    }
   },
   "outputs": [
    {
     "data": {
      "image/png": "[encoded data removed]",
      "text/plain": [
       "<Figure size 432x288 with 1 Axes>"
      ]
     },
     "metadata": {},
     "output_type": "display_data"
    }
   ],
   "source": [
    "#2 : Victim Sex Distribution - pie chart\n",
    "victim_sex_counts = df[\"Vict Sex\"].value_counts()\n",
    "\n",
    "plt.pie(victim_sex_counts,labels=victim_sex_counts.index,autopct=\"%1.1f%%\")\n",
    "plt.title(\"Victim Sex Distribution\")\n",
    "plt.show()"
   ]
  },
  {
   "cell_type": "code",
   "execution_count": 25,
   "id": "f4802508",
   "metadata": {
    "ExecuteTime": {
     "end_time": "2023-07-20T10:58:02.902741Z",
     "start_time": "2023-07-20T10:58:02.765110Z"
    }
   },
   "outputs": [
    {
     "data": {
      "image/png": "[encoded data removed]",
      "text/plain": [
       "<Figure size 576x576 with 1 Axes>"
      ]
     },
     "metadata": {},
     "output_type": "display_data"
    }
   ],
   "source": [
    "# 3: Victim Descent Distribution - Pie Chart\n",
    "victim_descent_counts = df['Vict Descent'].value_counts()\n",
    "\n",
    "plt.figure(figsize=(8, 8))\n",
    "plt.pie(victim_descent_counts, labels=victim_descent_counts.index, autopct='%1.1f%%')\n",
    "plt.title('Victim Descent Distribution')\n",
    "plt.show()"
   ]
  },
  {
   "cell_type": "code",
   "execution_count": 26,
   "id": "64d296ee",
   "metadata": {
    "ExecuteTime": {
     "end_time": "2023-07-20T11:02:02.024945Z",
     "start_time": "2023-07-20T11:02:01.754669Z"
    },
    "scrolled": true
   },
   "outputs": [
    {
     "data": {
      "image/png": "[encoded data removed]",
      "text/plain": [
       "<Figure size 720x432 with 1 Axes>"
      ]
     },
     "metadata": {
      "needs_background": "light"
     },
     "output_type": "display_data"
    }
   ],
   "source": [
    "#Visualization 5 : Time of Day Analysis\n",
    "#Extact hour from \"TIME OCC\" column\n",
    "\n",
    "df[\"Hour\"] = df[\"TIME OCC\"] //100\n",
    "crime_time_of_day_counts = df[\"Hour\"].value_counts().sort_index()\n",
    "\n",
    "plt.figure(figsize=(10,6))\n",
    "crime_time_of_day_counts.plot(kind=\"bar\")\n",
    "plt.xlabel(\"Hour of Day\")\n",
    "plt.ylabel(\"Number of Crimes\")\n",
    "plt.title(\"Time of Day Analysis\")\n",
    "plt.show()"
   ]
  },
  {
   "cell_type": "code",
   "execution_count": 27,
   "id": "13db29ec",
   "metadata": {
    "ExecuteTime": {
     "end_time": "2023-07-20T11:07:41.592839Z",
     "start_time": "2023-07-20T11:07:41.354654Z"
    }
   },
   "outputs": [
    {
     "data": {
      "image/png": "[encoded data removed]",
      "text/plain": [
       "<Figure size 720x432 with 1 Axes>"
      ]
     },
     "metadata": {
      "needs_background": "light"
     },
     "output_type": "display_data"
    }
   ],
   "source": [
    "#Crime Location Analysis\n",
    "crime_location_counts = df[\"Premis Desc\"].value_counts()\n",
    "plt.figure(figsize=(10,6))\n",
    "crime_location_counts.plot(kind=\"bar\")\n",
    "plt.xlabel(\"Crime Location\")\n",
    "plt.ylabel(\"Number of Crimes\")\n",
    "plt.title(\"Crime Location Analysis\")\n",
    "plt.show()"
   ]
  },
  {
   "cell_type": "code",
   "execution_count": 28,
   "id": "c2345c26",
   "metadata": {
    "ExecuteTime": {
     "end_time": "2023-07-20T11:10:17.647055Z",
     "start_time": "2023-07-20T11:10:17.425647Z"
    }
   },
   "outputs": [
    {
     "data": {
      "image/png": "[encoded data removed]",
      "text/plain": [
       "<Figure size 720x432 with 1 Axes>"
      ]
     },
     "metadata": {
      "needs_background": "light"
     },
     "output_type": "display_data"
    }
   ],
   "source": [
    "#Crime Code Frequency\n",
    "crime_code_counts = df[\"Crm Cd\"].value_counts()\n",
    "plt.figure(figsize=(10,6))\n",
    "crime_code_counts.plot(kind=\"bar\")\n",
    "plt.xlabel(\"Crime Code\")\n",
    "plt.ylabel(\"Number of Crimes\")\n",
    "plt.title(\"Crime Code Frequency\")\n",
    "plt.show()"
   ]
  },
  {
   "cell_type": "markdown",
   "id": "ae1b2845",
   "metadata": {},
   "source": [
    "# More visualizations"
   ]
  },
  {
   "cell_type": "code",
   "execution_count": 30,
   "id": "c16073c1",
   "metadata": {
    "ExecuteTime": {
     "end_time": "2023-07-20T11:30:52.985827Z",
     "start_time": "2023-07-20T11:30:50.898065Z"
    }
   },
   "outputs": [
    {
     "data": {
      "text/plain": [
       "array([[<AxesSubplot:title={'center':'TIME OCC'}>,\n",
       "        <AxesSubplot:title={'center':'AREA'}>,\n",
       "        <AxesSubplot:title={'center':'Crm Cd'}>,\n",
       "        <AxesSubplot:title={'center':'Vict Age'}>, <AxesSubplot:>],\n",
       "       [<AxesSubplot:>, <AxesSubplot:>, <AxesSubplot:>, <AxesSubplot:>,\n",
       "        <AxesSubplot:>],\n",
       "       [<AxesSubplot:>, <AxesSubplot:>, <AxesSubplot:>, <AxesSubplot:>,\n",
       "        <AxesSubplot:>],\n",
       "       [<AxesSubplot:>, <AxesSubplot:>, <AxesSubplot:>, <AxesSubplot:>,\n",
       "        <AxesSubplot:>],\n",
       "       [<AxesSubplot:>, <AxesSubplot:>, <AxesSubplot:>, <AxesSubplot:>,\n",
       "        <AxesSubplot:>]], dtype=object)"
      ]
     },
     "execution_count": 30,
     "metadata": {},
     "output_type": "execute_result"
    },
    {
     "data": {
      "image/png": "[encoded data removed]",
      "text/plain": [
       "<Figure size 1080x720 with 25 Axes>"
      ]
     },
     "metadata": {
      "needs_background": "light"
     },
     "output_type": "display_data"
    }
   ],
   "source": [
    "df_5 = df[['TIME OCC', 'AREA', 'Crm Cd', 'Vict Age', 'Vict Sex']]\n",
    "\n",
    "df_5.hist(layout=(5,5),figsize=(15,10))"
   ]
  },
  {
   "cell_type": "code",
   "execution_count": 31,
   "id": "8e9ea54f",
   "metadata": {
    "ExecuteTime": {
     "end_time": "2023-07-20T11:31:54.725292Z",
     "start_time": "2023-07-20T11:31:54.694396Z"
    }
   },
   "outputs": [],
   "source": [
    "crime_count = df.groupby(['TIME OCC', 'AREA', 'Crm Cd', 'Vict Age', 'Vict Sex']).size().reset_index(name=\"crime_count\")"
   ]
  },
  {
   "cell_type": "code",
   "execution_count": 33,
   "id": "36cbbb9c",
   "metadata": {
    "ExecuteTime": {
     "end_time": "2023-07-20T11:33:50.015745Z",
     "start_time": "2023-07-20T11:33:49.751452Z"
    }
   },
   "outputs": [
    {
     "data": {
      "text/plain": [
       "<AxesSubplot:>"
      ]
     },
     "execution_count": 33,
     "metadata": {},
     "output_type": "execute_result"
    },
    {
     "data": {
      "image/png": "[encoded data removed]",
      "text/plain": [
       "<Figure size 432x288 with 1 Axes>"
      ]
     },
     "metadata": {
      "needs_background": "light"
     },
     "output_type": "display_data"
    }
   ],
   "source": [
    "#to get the maximum area with crimes\n",
    "max_crime_area = crime_count[\"AREA\"].value_counts()\n",
    "\n",
    "max_crime_area.plot.bar()"
   ]
  }
 ],
 "metadata": {
  "kernelspec": {
   "display_name": "Python 3 (ipykernel)",
   "language": "python",
   "name": "python3"
  },
  "language_info": {
   "codemirror_mode": {
    "name": "ipython",
    "version": 3
   },
   "file_extension": ".py",
   "mimetype": "text/x-python",
   "name": "python",
   "nbconvert_exporter": "python",
   "pygments_lexer": "ipython3",
   "version": "3.9.7"
  }
 },
 "nbformat": 4,
 "nbformat_minor": 5
}
